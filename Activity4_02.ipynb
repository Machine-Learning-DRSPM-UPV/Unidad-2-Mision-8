{
 "cells": [
  {
   "cell_type": "markdown",
   "metadata": {},
   "source": [
    "# Activity 4.02: Random Forest Classification for Your Car Rental Company\n",
    "\n",
    "In this activity, you will optimize your classifier so that you satisfy your clients more when selecting future cars for your car fleet. We will be performing random forest and extreme random forest classification on the car dealership dataset that you worked on in the previous activity of this chapter.\n",
    "\n",
    "Output:\n",
    "\n",
    "For `RandomForestClassifier`\n",
    "\n",
    "![Figure 4.13](img/fig4_13.jpg)\n",
    "\n",
    "```\n",
    "array([0.12676384, 0.10366314, 0.02119621, 0.35266673, 0.05915769,\n",
    "       0.33655239])\n",
    "```\n",
    "\n",
    "For `ExtraTreesClassifier`\n",
    "\n",
    "![Figure 4.14](img/fig4_14.jpg)\n",
    "```\n",
    "array([0.08844544, 0.0702334 , 0.01440408, 0.37662014,\n",
    "       0.05965896, 0.39063797])\n",
    "```\n",
    "\n",
    "\n",
    "  > **Hints**  \n",
    "  >  * Use the code from the Activity 4.01 for loading, prepare and splitting the dataset.\n",
    "  >  * Create a random forest using `RandomForestClassifier`.\n",
    "  >  * Train the models using `.fit()`.\n",
    "  >  * Import the `confusion_matrix` function to find the quality of the `RandomForest`.\n",
    "  >  * Print the classification report using `classification_report()`.\n",
    "  >  * Print the feature importance with `.feature_importance_`.\n",
    "  >  * Use the same with an `extratrees` model."
   ]
  },
  {
   "cell_type": "code",
   "execution_count": null,
   "metadata": {},
   "outputs": [],
   "source": []
  },
  {
   "cell_type": "code",
   "execution_count": null,
   "metadata": {},
   "outputs": [],
   "source": []
  },
  {
   "cell_type": "code",
   "execution_count": null,
   "metadata": {},
   "outputs": [],
   "source": []
  },
  {
   "cell_type": "code",
   "execution_count": null,
   "metadata": {},
   "outputs": [],
   "source": []
  },
  {
   "cell_type": "code",
   "execution_count": null,
   "metadata": {},
   "outputs": [],
   "source": []
  },
  {
   "cell_type": "code",
   "execution_count": null,
   "metadata": {},
   "outputs": [],
   "source": []
  },
  {
   "cell_type": "code",
   "execution_count": null,
   "metadata": {},
   "outputs": [],
   "source": []
  },
  {
   "cell_type": "code",
   "execution_count": null,
   "metadata": {},
   "outputs": [],
   "source": []
  },
  {
   "cell_type": "code",
   "execution_count": null,
   "metadata": {},
   "outputs": [],
   "source": []
  },
  {
   "cell_type": "code",
   "execution_count": null,
   "metadata": {},
   "outputs": [],
   "source": []
  },
  {
   "cell_type": "code",
   "execution_count": null,
   "metadata": {},
   "outputs": [],
   "source": []
  },
  {
   "cell_type": "code",
   "execution_count": null,
   "metadata": {},
   "outputs": [],
   "source": []
  },
  {
   "cell_type": "code",
   "execution_count": null,
   "metadata": {},
   "outputs": [],
   "source": []
  },
  {
   "cell_type": "code",
   "execution_count": null,
   "metadata": {},
   "outputs": [],
   "source": []
  },
  {
   "cell_type": "code",
   "execution_count": null,
   "metadata": {},
   "outputs": [],
   "source": []
  }
 ],
 "metadata": {
  "kernelspec": {
   "display_name": "Python 3",
   "language": "python",
   "name": "python3"
  },
  "language_info": {
   "codemirror_mode": {
    "name": "ipython",
    "version": 3
   },
   "file_extension": ".py",
   "mimetype": "text/x-python",
   "name": "python",
   "nbconvert_exporter": "python",
   "pygments_lexer": "ipython3",
   "version": "3.8.5"
  }
 },
 "nbformat": 4,
 "nbformat_minor": 4
}
