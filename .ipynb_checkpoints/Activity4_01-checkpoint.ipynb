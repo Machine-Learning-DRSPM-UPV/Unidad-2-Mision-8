{
 "cells": [
  {
   "cell_type": "markdown",
   "metadata": {},
   "source": [
    "# Activity 4.01: Car Data Classification\n",
    "\n",
    "In this activity, you will build a reliable decision tree model that's capable of aiding a company in finding cars that clients are likely to buy. We will be assuming that the car rental agency is focusing on building a lasting relationship with its clients. Your task is to build a decision tree model that classifies cars into one of four categories: unacceptable, acceptable, good, and very good.\n",
    "\n",
    "  > The dataset for this activity can be accessed [here](https://archive.ics.uci.edu/ml/datasets/Car+Evaluation). Citation – Dua, D., & Graff, C.. (2017). UCI Machine Learning Repository.\n",
    "  \n",
    "It is composed of six different features: `buying`, `maintenance`, `doors`, `persons`, `luggage_boot`, and `safety`. The target variable ranks the level of acceptability for a given car. It can take four different values: `unacc`, `acc`, `good`, and `vgood`.\n",
    "\n",
    "  > **Hints**  \n",
    "  >  * Load the dataset into Python and import the necessary libaries.\n",
    "  >  * Perform label encoding with `LabelEncoder()` from scikit-learn.\n",
    "  >  * Extract the `label` variable using `pop()` from pandas.\n",
    "  >  * Separate the training and testing data with `train_test_spit()` from scikit-learn. We will use 10% of the data as test data. With `random_state=88`.\n",
    "  >  * Build the decision tree classifier using `DecisionTreeClassifier()` and its methods, `fit()` and `predict()`.\n",
    "  >  * Check the score of our model based on the test data with score().\n",
    "Create a deeper evaluation of the model using `classification_report()` from scikit-learn.\n",
    "\n",
    "Output:\n",
    "\n",
    "![Figure 4.11](img/fig4_11.jpg)"
   ]
  },
  {
   "cell_type": "code",
   "execution_count": null,
   "metadata": {},
   "outputs": [],
   "source": []
  },
  {
   "cell_type": "code",
   "execution_count": null,
   "metadata": {},
   "outputs": [],
   "source": []
  },
  {
   "cell_type": "code",
   "execution_count": null,
   "metadata": {},
   "outputs": [],
   "source": []
  },
  {
   "cell_type": "code",
   "execution_count": null,
   "metadata": {},
   "outputs": [],
   "source": []
  },
  {
   "cell_type": "code",
   "execution_count": null,
   "metadata": {},
   "outputs": [],
   "source": []
  },
  {
   "cell_type": "code",
   "execution_count": null,
   "metadata": {},
   "outputs": [],
   "source": []
  },
  {
   "cell_type": "code",
   "execution_count": null,
   "metadata": {},
   "outputs": [],
   "source": []
  },
  {
   "cell_type": "code",
   "execution_count": null,
   "metadata": {},
   "outputs": [],
   "source": []
  },
  {
   "cell_type": "code",
   "execution_count": null,
   "metadata": {},
   "outputs": [],
   "source": []
  },
  {
   "cell_type": "markdown",
   "metadata": {},
   "source": [
    "From this classification report, we can see that our model is performing quite well for the precision scores for all four classes. Regarding the recall score, we can see that it didn't perform as well for the last class."
   ]
  },
  {
   "cell_type": "code",
   "execution_count": null,
   "metadata": {},
   "outputs": [],
   "source": []
  }
 ],
 "metadata": {
  "kernelspec": {
   "display_name": "Python 3.8.5 64-bit ('TheAppliedAIWorkshop')",
   "language": "python",
   "name": "python38564bittheappliedaiworkshopbbf3bf7f8981460693d2b1f0fcd6289d"
  },
  "language_info": {
   "codemirror_mode": {
    "name": "ipython",
    "version": 3
   },
   "file_extension": ".py",
   "mimetype": "text/x-python",
   "name": "python",
   "nbconvert_exporter": "python",
   "pygments_lexer": "ipython3",
   "version": "3.8.5"
  }
 },
 "nbformat": 4,
 "nbformat_minor": 4
}
